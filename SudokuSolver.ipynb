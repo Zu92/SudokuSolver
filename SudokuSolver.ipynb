{
 "metadata": {
  "language_info": {
   "codemirror_mode": {
    "name": "ipython",
    "version": 3
   },
   "file_extension": ".py",
   "mimetype": "text/x-python",
   "name": "python",
   "nbconvert_exporter": "python",
   "pygments_lexer": "ipython3",
   "version": "3.8.3-final"
  },
  "orig_nbformat": 2,
  "kernelspec": {
   "name": "python3",
   "display_name": "Python 3.8.3 64-bit (conda)",
   "metadata": {
    "interpreter": {
     "hash": "55d00c619c5a9e7874140e805b18508d5f57d980992513e0724117a2b577dabd"
    }
   }
  }
 },
 "nbformat": 4,
 "nbformat_minor": 2,
 "cells": [
  {
   "cell_type": "code",
   "execution_count": 86,
   "metadata": {},
   "outputs": [],
   "source": [
    "import numpy as np\n",
    "\n",
    "board = [\n",
    "    [7,8,0,4,0,0,1,2,0],\n",
    "    [6,0,0,0,7,5,0,0,9],\n",
    "    [0,0,0,6,0,1,0,7,8],\n",
    "    [0,0,7,0,4,0,2,6,0],\n",
    "    [0,0,1,0,5,0,9,3,0],\n",
    "    [9,0,4,0,6,0,0,0,5],\n",
    "    [0,7,0,3,0,0,0,1,2],\n",
    "    [1,2,0,0,0,7,4,0,0],\n",
    "    [0,4,9,2,0,6,0,0,7]\n",
    "]\n",
    "c1=[board[0][0],board[0][1],board[0][2],board[1][0],board[1][1],board[1][2],board[2][0],board[2][1],board[2][2]]\n",
    "c2=[board[3][0],board[3][1],board[3][2],board[4][0],board[4][1],board[4][2],board[5][0],board[5][1],board[5][2]]\n",
    "c3=[board[6][0],board[6][1],board[6][2],board[7][0],board[7][1],board[7][2],board[8][0],board[8][1],board[8][2]]\n",
    "c4=[board[0][3],board[0][4],board[0][5],board[1][3],board[1][4],board[1][5],board[2][3],board[2][4],board[2][5]]\n",
    "c5=[board[3][3],board[3][4],board[3][5],board[4][3],board[4][4],board[4][5],board[5][3],board[5][4],board[5][5]]\n",
    "c6=[board[6][3],board[6][4],board[6][5],board[7][3],board[7][4],board[7][5],board[8][3],board[8][4],board[8][5]]\n",
    "c7=[board[0][6],board[0][7],board[0][8],board[1][6],board[1][7],board[1][8],board[2][6],board[2][7],board[2][8]]\n",
    "c8=[board[3][6],board[3][7],board[3][8],board[4][6],board[4][7],board[4][8],board[5][6],board[5][7],board[5][8]]\n",
    "c9=[board[6][6],board[6][7],board[6][8],board[7][6],board[7][7],board[7][8],board[8][6],board[8][7],board[8][8]]\n",
    "columns=[]\n",
    "\n",
    "\n"
   ]
  },
  {
   "cell_type": "code",
   "execution_count": 87,
   "metadata": {},
   "outputs": [
    {
     "output_type": "execute_result",
     "data": {
      "text/plain": [
       "[[2, 1, 1],\n",
       " [2, 1, 2],\n",
       " [2, 1, 3],\n",
       " [2, 1, 6],\n",
       " [2, 1, 7],\n",
       " [2, 2, 0],\n",
       " [2, 2, 1],\n",
       " [2, 2, 2],\n",
       " [2, 2, 4],\n",
       " [2, 2, 6],\n",
       " [2, 4, 0],\n",
       " [2, 4, 1],\n",
       " [2, 4, 3],\n",
       " [2, 4, 5],\n",
       " [2, 4, 8],\n",
       " [2, 5, 1],\n",
       " [2, 5, 3],\n",
       " [2, 5, 5],\n",
       " [2, 5, 6],\n",
       " [2, 5, 7]]"
      ]
     },
     "metadata": {},
     "execution_count": 87
    }
   ],
   "source": [
    "def possibilitiesrow(num):\n",
    "    places=[]\n",
    "    index=0\n",
    "    for array in board:\n",
    "        if num not in array:\n",
    "            matches=([i for i,x in enumerate(array) if x==0])\n",
    "            for i in matches:\n",
    "                places.append([num,index,i])\n",
    "        index=index+1\n",
    "        \n",
    "    return places\n",
    "possibilitiesrow(2)"
   ]
  },
  {
   "cell_type": "code",
   "execution_count": 88,
   "metadata": {},
   "outputs": [
    {
     "output_type": "execute_result",
     "data": {
      "text/plain": [
       "[[2, 1, 2], [2, 2, 0], [2, 2, 2], [2, 2, 4], [2, 4, 0], [2, 4, 5], [2, 5, 5]]"
      ]
     },
     "metadata": {},
     "execution_count": 88
    }
   ],
   "source": [
    "\n",
    "def possibilitiescolumn(places):\n",
    "    columns=[]\n",
    "    for a in range(0,9):\n",
    "        column=[]\n",
    "        for i in range(0,9):\n",
    "            column.append(board[i][a])\n",
    "        columns.append(column)\n",
    "    \n",
    "    for place in places[:]:\n",
    "        if place[0] in columns[place[2]]:\n",
    "            places.remove(place) \n",
    "    \n",
    "    return places\n",
    "possibilitiescolumn(possibilitiesrow(2))"
   ]
  },
  {
   "cell_type": "code",
   "execution_count": 89,
   "metadata": {},
   "outputs": [
    {
     "output_type": "execute_result",
     "data": {
      "text/plain": [
       "[[2, 1, 2, 0],\n",
       " [2, 2, 0, 0],\n",
       " [2, 2, 2, 0],\n",
       " [2, 2, 4, 1],\n",
       " [2, 4, 0, 3],\n",
       " [2, 4, 5, 4],\n",
       " [2, 5, 5, 4]]"
      ]
     },
     "metadata": {},
     "execution_count": 89
    }
   ],
   "source": [
    "def possibilitiessquare(places):\n",
    "    for place in places[:]:\n",
    "        if place[1] in [0,1,2]:\n",
    "            if place[2] in [0,1,2]:\n",
    "                place.append(0)\n",
    "                if place[0] in c1:\n",
    "\n",
    "                    places.remove(place)\n",
    "            if place[2] in [3,4,5]:\n",
    "                place.append(1)\n",
    "                if place[0] in c4:\n",
    "\n",
    "                    places.remove(place)\n",
    "            if place[2] in [6,7,8]:\n",
    "                place.append(2)\n",
    "                if place[0] in c7:\n",
    "\n",
    "                    places.remove(place)\n",
    "\n",
    "        if place[1] in [3,4,5]:\n",
    "            if place[2] in [0,1,2]:\n",
    "                place.append(3)\n",
    "                if place[0] in c2:\n",
    "\n",
    "                    places.remove(place)\n",
    "            if place[2] in [3,4,5]:\n",
    "                place.append(4)\n",
    "                if place[0] in c5:\n",
    "\n",
    "                    places.remove(place)\n",
    "            if place[2] in [6,7,8]:\n",
    "                place.append(5)\n",
    "                if place[0] in c8:\n",
    "\n",
    "                    places.remove(place)\n",
    "\n",
    "        if place[1] in [6,7,8]:\n",
    "            if place[2] in [0,1,2]:\n",
    "                place.append(6)\n",
    "                if place[0] in c3:\n",
    "\n",
    "                    places.remove(place)\n",
    "            if place[2] in [3,4,5]:\n",
    "                place.append(7)\n",
    "                if place[0] in c6:\n",
    "\n",
    "                    places.remove(place)\n",
    "            if place[2] in [6,7,8]:\n",
    "                place.append(8)\n",
    "                if place[0] in c9:\n",
    "\n",
    "                    places.remove(place)\n",
    "\n",
    "    return places\n",
    "possibilitiessquare(possibilitiescolumn(possibilitiesrow(2)))"
   ]
  },
  {
   "cell_type": "code",
   "execution_count": 90,
   "metadata": {},
   "outputs": [],
   "source": [
    "def add_board(placess):\n",
    "    for places in placess:\n",
    "        board[places[1]][places[2]]=places[0]"
   ]
  },
  {
   "cell_type": "code",
   "execution_count": 91,
   "metadata": {},
   "outputs": [],
   "source": [
    "def emptyspace(board):\n",
    "    matches=[]\n",
    "    for array in board:\n",
    "        if 0 in array:\n",
    "            return True\n",
    "    return False\n"
   ]
  },
  {
   "cell_type": "code",
   "execution_count": 92,
   "metadata": {},
   "outputs": [],
   "source": [
    "def duplicatecolumn(places):\n",
    "    columns=[]\n",
    "    for place in places:\n",
    "        columns.append(place[2])\n",
    "    finalplaces=[]\n",
    "    for place in places:\n",
    "        if columns.count(place[2])==1:\n",
    "            finalplaces.append(place)\n",
    "    return finalplaces\n",
    "    "
   ]
  },
  {
   "cell_type": "code",
   "execution_count": 93,
   "metadata": {},
   "outputs": [],
   "source": [
    "def duplicaterow(places):\n",
    "    rows=[]\n",
    "    for place in places:\n",
    "        rows.append(place[1])\n",
    "    finalplaces=[]\n",
    "    for place in places:\n",
    "        if rows.count(place[1])==1:\n",
    "            finalplaces.append(place)\n",
    "    return finalplaces\n",
    "    "
   ]
  },
  {
   "cell_type": "code",
   "execution_count": 94,
   "metadata": {},
   "outputs": [],
   "source": [
    "def duplicatesquare(places):\n",
    "    square=[]\n",
    "    for place in places:\n",
    "        square.append(place[3])\n",
    "    finalplaces=[]\n",
    "    for place in places:\n",
    "        if square.count(place[3])==1:\n",
    "            finalplaces.append(place)\n",
    "    return finalplaces\n"
   ]
  },
  {
   "cell_type": "code",
   "execution_count": 95,
   "metadata": {
    "tags": []
   },
   "outputs": [
    {
     "output_type": "execute_result",
     "data": {
      "text/plain": [
       "[[7, 8, 5, 4, 3, 9, 1, 2, 6],\n",
       " [6, 1, 2, 8, 7, 5, 3, 4, 9],\n",
       " [4, 9, 3, 6, 2, 1, 5, 7, 8],\n",
       " [8, 5, 7, 9, 4, 3, 2, 6, 1],\n",
       " [2, 6, 1, 7, 5, 8, 9, 3, 4],\n",
       " [9, 3, 4, 1, 6, 2, 7, 8, 5],\n",
       " [5, 7, 8, 3, 9, 4, 6, 1, 2],\n",
       " [1, 2, 6, 5, 8, 7, 4, 9, 3],\n",
       " [3, 4, 9, 2, 1, 6, 8, 5, 7]]"
      ]
     },
     "metadata": {},
     "execution_count": 95
    }
   ],
   "source": [
    "def trynumbers():\n",
    "    numbers=range(1,10)\n",
    "    while emptyspace(board):\n",
    "        for num in numbers:\n",
    "            \n",
    "            final=duplicatesquare(duplicaterow(duplicatecolumn(possibilitiessquare(possibilitiescolumn(possibilitiesrow(num))))))\n",
    "            add_board(final)\n",
    "    return(board)\n",
    "                     \n",
    "trynumbers()   "
   ]
  }
 ]
}